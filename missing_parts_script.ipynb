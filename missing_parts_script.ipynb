{
 "cells": [
  {
   "cell_type": "code",
   "execution_count": 1,
   "id": "19b3ebed-3085-48cb-86ae-8c73400aedb9",
   "metadata": {},
   "outputs": [],
   "source": [
    "import os\n",
    "import json\n",
    "import pandas as pd"
   ]
  },
  {
   "cell_type": "code",
   "execution_count": null,
   "id": "e7f75a36-2859-49b8-b5c2-dfa1da01e9ae",
   "metadata": {},
   "outputs": [],
   "source": [
    "# File paths (update as needed)\n",
    "image_position_csv = r\"D:\\Downloads\\client_187_Scooter.csv\" \n",
    "position_parts_csv = \"D:\\major_parts_tw_scooter.csv\"  \n",
    "json_root_folder = r\"D:\\Downloads\\TwoWheeler\\data\\NIC-2-wheeler-Batch-2-18\\Download_data\\testining_missing_code\\nic_scooter\"  "
   ]
  },
  {
   "cell_type": "code",
   "execution_count": null,
   "id": "fd791d72-6493-4604-aa0e-fe40e5bce7b1",
   "metadata": {},
   "outputs": [],
   "source": [
    "# Load the CSV containing image names and positions\n",
    "image_position_df =  pd.read_csv(image_position_csv)\n",
    "image_position_df[\"image_name\"] = image_position_df.url.str.split(\"/\").str[-1]\n",
    "image_position_df.rename(columns={'curation_result_y': 'position'}, inplace=True)\n",
    "\n",
    "# Load the position-to-parts mapping\n",
    "position_parts_df = pd.read_csv(position_parts_csv)"
   ]
  },
  {
   "cell_type": "code",
   "execution_count": null,
   "id": "0022f40e-12b4-4619-8dcd-9a3ba963101d",
   "metadata": {},
   "outputs": [],
   "source": [
    "position_part_mapping = {\n",
    "    position.upper(): position_parts_df[position].dropna().unique().tolist()\n",
    "    for position in position_parts_df.columns\n",
    "}\n",
    "\n",
    "def find_json_file(image_name):\n",
    "    image_base = os.path.splitext(os.path.basename(image_name))[0]  \n",
    "    for root, _, files in os.walk(json_root_folder):  \n",
    "        for file in files:\n",
    "            if file.endswith(\".json\") and file.startswith(image_base):\n",
    "                return os.path.join(root, file)\n",
    "    return None \n",
    "\n",
    "\n",
    "def check_missing_parts(image_name, position):\n",
    "    json_path = find_json_file(image_name)  \n",
    "\n",
    "    if json_path is None:\n",
    "        return {\"image_name\": image_name, \"position\": position, \"missing_parts\": \"JSON file not found\"}\n",
    "\n",
    "    with open(json_path, 'r') as f:\n",
    "        data = json.load(f)\n",
    "\n",
    "    required_parts = position_part_mapping.get(position.upper(), [])\n",
    "\n",
    "    labeled_parts = {shape['label'] for shape in data.get('shapes', [])}\n",
    "\n",
    "    missing_parts = list(set(required_parts) - labeled_parts)\n",
    "\n",
    "    return {\"image_name\": image_name, \"position\": position, \"missing_parts\": missing_parts}\n",
    "\n",
    "report = []\n",
    "\n",
    "for _, row in image_position_df.iterrows():\n",
    "    image_name = row['image_name']  \n",
    "    position = row['position']\n",
    "\n",
    "    if pd.isna(position):\n",
    "        continue\n",
    "\n",
    "    result = check_missing_parts(image_name, position)\n",
    "\n",
    "    # Add to report if there are missing parts\n",
    "    if result[\"missing_parts\"]:\n",
    "        report.append(result)\n",
    "\n",
    "# Convert the report to a DataFrame and save it\n",
    "report_df = pd.DataFrame(report)\n",
    "report_csv = \"missing_parts_report.csv\"\n",
    "report_df.to_csv(report_csv, index=False)\n",
    "\n",
    "print(f\"Missing parts report saved to {report_csv}\")\n"
   ]
  }
 ],
 "metadata": {
  "kernelspec": {
   "display_name": "Python 3 (ipykernel)",
   "language": "python",
   "name": "python3"
  },
  "language_info": {
   "codemirror_mode": {
    "name": "ipython",
    "version": 3
   },
   "file_extension": ".py",
   "mimetype": "text/x-python",
   "name": "python",
   "nbconvert_exporter": "python",
   "pygments_lexer": "ipython3",
   "version": "3.13.5"
  }
 },
 "nbformat": 4,
 "nbformat_minor": 5
}
