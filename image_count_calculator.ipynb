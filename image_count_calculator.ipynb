{
 "cells": [
  {
   "cell_type": "code",
   "execution_count": 1,
   "id": "85020dd8-9073-4288-abcc-ac7d98dcedb5",
   "metadata": {},
   "outputs": [
    {
     "name": "stdout",
     "output_type": "stream",
     "text": [
      "Counts saved to \\\\172.16.1.6\\DataShare\\Gaurav Vairagade\\Backup\\NIA_Data\\file_counts.xlsx\n"
     ]
    }
   ],
   "source": [
    "import os\n",
    "import pandas as pd\n",
    "\n",
    "# Base directory containing multiple folders\n",
    "base_dir = r\"\\\\172.16.1.6\\DataShare\\Gaurav Vairagade\\Backup\\NIA_Data\"\n",
    "\n",
    "# Allowed image extensions\n",
    "image_extensions = ('.jpg', '.jpeg', '.png', '.bmp', '.gif', '.tiff', '.webp')\n",
    "\n",
    "# For storing folder-wise counts\n",
    "folder_counts = []\n",
    "\n",
    "# Variables for total counts\n",
    "total_images = 0\n",
    "total_jsons = 0\n",
    "\n",
    "# Loop through all first-level folders\n",
    "for folder_name in os.listdir(base_dir):\n",
    "    folder_path = os.path.join(base_dir, folder_name)\n",
    "    if os.path.isdir(folder_path):\n",
    "        # Count images in this folder\n",
    "        image_count = sum(1 for file in os.listdir(folder_path) if file.lower().endswith(image_extensions))\n",
    "        json_count = sum(1 for file in os.listdir(folder_path) if file.lower().endswith('.json'))\n",
    "\n",
    "        total_images += image_count\n",
    "        total_jsons += json_count\n",
    "\n",
    "        folder_counts.append({\n",
    "            \"Folder\": folder_name,\n",
    "            \"Image_Count\": image_count,\n",
    "            \"JSON_Count\": json_count\n",
    "        })\n",
    "\n",
    "# Create DataFrame\n",
    "df = pd.DataFrame(folder_counts)\n",
    "\n",
    "# Add total row at the top\n",
    "total_row = pd.DataFrame([{\n",
    "    \"Folder\": \"TOTAL (First Level)\",\n",
    "    \"Image_Count\": total_images,\n",
    "    \"JSON_Count\": total_jsons\n",
    "}])\n",
    "\n",
    "df = pd.concat([total_row, df], ignore_index=True)\n",
    "\n",
    "# Save to Excel\n",
    "output_path = os.path.join(base_dir, \"file_counts.xlsx\")\n",
    "df.to_excel(output_path, index=False)\n",
    "\n",
    "print(f\"Counts saved to {output_path}\")\n"
   ]
  },
  {
   "cell_type": "code",
   "execution_count": null,
   "id": "e3d36af5-d3a5-4a4e-9b83-eb32066f8b14",
   "metadata": {},
   "outputs": [],
   "source": []
  }
 ],
 "metadata": {
  "kernelspec": {
   "display_name": "Python 3 (ipykernel)",
   "language": "python",
   "name": "python3"
  },
  "language_info": {
   "codemirror_mode": {
    "name": "ipython",
    "version": 3
   },
   "file_extension": ".py",
   "mimetype": "text/x-python",
   "name": "python",
   "nbconvert_exporter": "python",
   "pygments_lexer": "ipython3",
   "version": "3.13.5"
  }
 },
 "nbformat": 4,
 "nbformat_minor": 5
}
