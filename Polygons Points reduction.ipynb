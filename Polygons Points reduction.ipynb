{
 "cells": [
  {
   "cell_type": "code",
   "execution_count": 1,
   "id": "100d4b70",
   "metadata": {},
   "outputs": [
    {
     "name": "stdout",
     "output_type": "stream",
     "text": [
      "Processed JSON files are saved in: C:\\Users\\tushar.potdukhe\\Downloads\\car_front_right sompo\\car_front_right sompo\\f4\\reduced_jsons\n"
     ]
    }
   ],
   "source": [
    "import os\n",
    "import json\n",
    "import shutil\n",
    "import numpy as np\n",
    "# Define input and output folders\n",
    "input_folder = r\"C:\\Users\\tushar.potdukhe\\Downloads\\car_front_right sompo\\car_front_right sompo\\f4\"\n",
    "output_folder = os.path.join(input_folder, \"reduced_jsons\")\n",
    "# Create output folder if it doesn't exist\n",
    "os.makedirs(output_folder, exist_ok=True)\n",
    "def reduce_points(points, keep_ratio=0.06):\n",
    "    \"\"\"\n",
    "    Reduce the number of points in a polygon while keeping them evenly spaced.\n",
    "    \"\"\"\n",
    "    total_points = len(points)\n",
    "    keep_count = max(2, int(total_points * keep_ratio))  # Keep at least 2 points\n",
    "    indices = np.linspace(0, total_points - 1, keep_count, dtype=int)  # Equally spaced indices\n",
    "    return [points[i] for i in indices]\n",
    "# Process each JSON file\n",
    "for filename in os.listdir(input_folder):\n",
    "    if filename.endswith(\".json\"):\n",
    "        input_path = os.path.join(input_folder, filename)\n",
    "        output_path = os.path.join(output_folder, filename)\n",
    "        \n",
    "        # Load JSON data\n",
    "        with open(input_path, \"r\", encoding=\"utf-8\") as file:\n",
    "            json_data = json.load(file)\n",
    "            \n",
    "            # Modify polygon points\n",
    "            if \"shapes\" in json_data:\n",
    "                for shape in json_data[\"shapes\"]:\n",
    "                    shape[\"points\"] = reduce_points(shape.get(\"points\", []))\n",
    "        \n",
    "        # Save modified JSON file\n",
    "        with open(output_path, \"w\", encoding=\"utf-8\") as file:\n",
    "            json.dump(json_data, file, indent=4)\n",
    "        \n",
    "print(f\"Processed JSON files are saved in: {output_folder}\")"
   ]
  },
  {
   "cell_type": "code",
   "execution_count": null,
   "id": "fc477e29",
   "metadata": {},
   "outputs": [],
   "source": []
  }
 ],
 "metadata": {
  "kernelspec": {
   "display_name": "Python 3 (ipykernel)",
   "language": "python",
   "name": "python3"
  },
  "language_info": {
   "codemirror_mode": {
    "name": "ipython",
    "version": 3
   },
   "file_extension": ".py",
   "mimetype": "text/x-python",
   "name": "python",
   "nbconvert_exporter": "python",
   "pygments_lexer": "ipython3",
   "version": "3.13.5"
  }
 },
 "nbformat": 4,
 "nbformat_minor": 5
}
