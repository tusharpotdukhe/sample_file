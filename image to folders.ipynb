{
 "cells": [
  {
   "cell_type": "code",
   "execution_count": 1,
   "id": "f0b22b0c-721b-4300-a3b2-73e1299a1686",
   "metadata": {},
   "outputs": [],
   "source": [
    "import os\n",
    "import shutil"
   ]
  },
  {
   "cell_type": "code",
   "execution_count": 2,
   "id": "1bfe8604-eb16-475f-8a9b-249742a4e513",
   "metadata": {},
   "outputs": [
    {
     "name": "stdout",
     "output_type": "stream",
     "text": [
      "✅ Files sorted into folders based on name prefix.\n"
     ]
    }
   ],
   "source": [
    "# 📁 Set your working directory\n",
    "base_directory = r\"C:\\Users\\tushar.potdukhe\\Desktop\\QAdata\"\n",
    "\n",
    "# 🎯 Supported file extensions\n",
    "valid_extensions = ('.jpg', '.jpeg', '.png', '.bmp', '.gif', '.tiff', '.webp', '.json')\n",
    "\n",
    "# 🔁 Loop through all files\n",
    "for filename in os.listdir(base_directory):\n",
    "    if filename.lower().endswith(valid_extensions):\n",
    "        # 🧱 Extract folder name from filename (before first underscore)\n",
    "        folder_name = filename.split('_')[0]\n",
    "        folder_path = os.path.join(base_directory, folder_name)\n",
    "\n",
    "        # 📂 Create folder if not exists\n",
    "        os.makedirs(folder_path, exist_ok=True)\n",
    "\n",
    "        # 📦 Move file\n",
    "        src_path = os.path.join(base_directory, filename)\n",
    "        dst_path = os.path.join(folder_path, filename)\n",
    "        shutil.move(src_path, dst_path)\n",
    "\n",
    "print(\"✅ Files sorted into folders based on name prefix.\")\n"
   ]
  },
  {
   "cell_type": "code",
   "execution_count": null,
   "id": "e3c732a9-d20f-48d3-a6e7-ba65d7433423",
   "metadata": {},
   "outputs": [],
   "source": []
  }
 ],
 "metadata": {
  "kernelspec": {
   "display_name": "Python 3 (ipykernel)",
   "language": "python",
   "name": "python3"
  },
  "language_info": {
   "codemirror_mode": {
    "name": "ipython",
    "version": 3
   },
   "file_extension": ".py",
   "mimetype": "text/x-python",
   "name": "python",
   "nbconvert_exporter": "python",
   "pygments_lexer": "ipython3",
   "version": "3.13.5"
  }
 },
 "nbformat": 4,
 "nbformat_minor": 5
}
